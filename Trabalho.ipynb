{
 "cells": [
  {
   "cell_type": "code",
   "execution_count": 128,
   "metadata": {},
   "outputs": [
    {
     "name": "stderr",
     "output_type": "stream",
     "text": [
      "[nltk_data] Downloading package stopwords to\n",
      "[nltk_data]     C:\\Users\\guido\\AppData\\Roaming\\nltk_data...\n",
      "[nltk_data]   Package stopwords is already up-to-date!\n"
     ]
    }
   ],
   "source": [
    "import re\n",
    "%matplotlib inline\n",
    "import pandas as pd\n",
    "import matplotlib.pyplot as plt\n",
    "import numpy as np\n",
    "import os\n",
    "import nltk\n",
    "nltk.download('stopwords')\n",
    "from nltk.corpus import stopwords"
   ]
  },
  {
   "cell_type": "code",
   "execution_count": 129,
   "metadata": {},
   "outputs": [],
   "source": [
    "sw = stopwords.words('portuguese')\n",
    "def limpar_caracteres_especiais(string):\n",
    "\n",
    "    limpo= re.sub(r'[^\\w\\s]', '', string)\n",
    "    menor=limpo.lower()\n",
    "    return menor\n"
   ]
  },
  {
   "cell_type": "code",
   "execution_count": 130,
   "metadata": {},
   "outputs": [],
   "source": [
    "def separa_palavra(lista):\n",
    "    palavras=[]\n",
    "    for frase in lista:\n",
    "        palavra=frase.split()\n",
    "        for e in palavra:\n",
    "            palavras.append(e)\n",
    "    palavras_series=pd.Series(palavras)\n",
    "    tabela_palavras=palavras_series.value_counts()\n",
    "    return tabela_palavras"
   ]
  },
  {
   "cell_type": "code",
   "execution_count": 131,
   "metadata": {},
   "outputs": [],
   "source": [
    "def probabilidade_frase(frase,treino):\n",
    "    \n",
    "    Positivo=1\n",
    "    Negativo=1\n",
    "    Neutro=1\n",
    "    frase_split=frase.split()\n",
    "    treino_positivo = treino.loc[treino.Target=='Positivo' , :]\n",
    "    treino_negativo = treino.loc[treino.Target=='Negativo' , :]\n",
    "    treino_neutro = treino.loc[treino.Target=='Neutro' , :]\n",
    "    palavras_t=separa_palavra(treino.Mensagem)\n",
    "    palavras_p=separa_palavra(treino_positivo.Mensagem)\n",
    "    palavras_neg=separa_palavra(treino_negativo.Mensagem)\n",
    "    palavras_neu=separa_palavra(treino_neutro.Mensagem)\n",
    "    todas=len(palavras_t)\n",
    "    todas_positivas=sum(palavras_p.values)\n",
    "    todas_negativas=sum(palavras_neg.values)\n",
    "    todas_neutras=sum(palavras_neu.values)\n",
    "\n",
    "\n",
    "\n",
    "    for i in frase_split:\n",
    "        if i not in palavras_t:\n",
    "            palavras_t[i]=0\n",
    "        if i not in palavras_p:\n",
    "            palavras_p[i]=0\n",
    "\n",
    "        \n",
    "        if i not in palavras_neg:\n",
    "            palavras_neg[i]=0    \n",
    "        \n",
    "        \n",
    "        if i not in palavras_neu:\n",
    "            palavras_neu[i]=0 \n",
    "        \n",
    "        \n",
    "        chance_pos=(palavras_p[i]+1)/(todas+todas_positivas)\n",
    "        Positivo*=chance_pos\n",
    "    \n",
    "        chance_neg=(palavras_neg[i]+1)/(todas+todas_negativas)\n",
    "        Negativo*=chance_neg\n",
    "\n",
    "        chance_neu=(palavras_neu[i]+1)/(todas+todas_neutras)\n",
    "        Neutro*=chance_neu\n",
    "\n",
    "    \n",
    "    if Negativo>Positivo and Negativo>Neutro:\n",
    "        return ('Negativo')\n",
    "    elif Positivo>Negativo and Positivo>Neutro:\n",
    "        return ('Positivo')\n",
    "    else:\n",
    "        return('Neutro')\n",
    "    \n"
   ]
  },
  {
   "cell_type": "code",
   "execution_count": 132,
   "metadata": {},
   "outputs": [],
   "source": [
    "def acur(teste,treino):\n",
    "    fpos=0\n",
    "    ppos=0\n",
    "    fneg=0\n",
    "    pneg=0\n",
    "    fneu=0\n",
    "    pneu=0\n",
    "\n",
    "    mensagem_treino=treino.Mensagem\n",
    "    \n",
    "    mensagem_treino = [limpar_caracteres_especiais(string) for string in mensagem_treino]\n",
    "    \n",
    "    \n",
    "    for i in range(len(mensagem_treino)):\n",
    "        mensagem_treino[i] = ' '.join([k for k in mensagem_treino[i].split(\" \") if k not in sw])\n",
    "    \n",
    "    treino.Mensagem=mensagem_treino\n",
    "\n",
    "    \n",
    "    \n",
    "    target=teste.Target.tolist()\n",
    "    mensagem=teste.Mensagem\n",
    "    \n",
    "    mensagem = [limpar_caracteres_especiais(string) for string in mensagem]\n",
    "    \n",
    "    \n",
    "    for i in range(len(mensagem)):\n",
    "        mensagem[i] = ' '.join([k for k in mensagem[i].split(\" \") if k not in sw])\n",
    "    \n",
    "    for i in range(len(target)):\n",
    "        classi=probabilidade_frase(mensagem[i],treino)\n",
    "        if target[i]=='Neutro':\n",
    "            if classi==target[i]:\n",
    "                pneu+=1\n",
    "            else:\n",
    "                fneu+=1\n",
    "        if target[i]=='Positivo':\n",
    "            if classi==target[i]:\n",
    "                ppos+=1\n",
    "            else:\n",
    "                fpos+=1\n",
    "        if target[i]=='Negativo':\n",
    "            if classi==target[i]:\n",
    "                pneg+=1\n",
    "            else:\n",
    "                fneg+=1\n",
    "    \n",
    "    resp=((ppos+pneu+pneg)/(ppos+fpos+pneg+fneg+pneu+fneu))*100\n",
    "    \n",
    "    return(resp)\n"
   ]
  },
  {
   "cell_type": "code",
   "execution_count": 133,
   "metadata": {},
   "outputs": [],
   "source": [
    "total = pd.read_excel('dados/Total.xlsx')"
   ]
  },
  {
   "cell_type": "code",
   "execution_count": 134,
   "metadata": {},
   "outputs": [
    {
     "name": "stdout",
     "output_type": "stream",
     "text": [
      "78.0\n",
      "80.66666666666666\n",
      "76.66666666666667\n",
      "75.66666666666667\n"
     ]
    },
    {
     "ename": "KeyboardInterrupt",
     "evalue": "",
     "output_type": "error",
     "traceback": [
      "\u001b[1;31m---------------------------------------------------------------------------\u001b[0m",
      "\u001b[1;31mKeyboardInterrupt\u001b[0m                         Traceback (most recent call last)",
      "\u001b[1;32mc:\\Users\\guido\\OneDrive\\Documentos\\GitHub\\Cdados\\Trabalho.ipynb Cell 7\u001b[0m line \u001b[0;36m1\n\u001b[0;32m     <a href='vscode-notebook-cell:/c%3A/Users/guido/OneDrive/Documentos/GitHub/Cdados/Trabalho.ipynb#X11sZmlsZQ%3D%3D?line=9'>10</a>\u001b[0m teste\u001b[39m=\u001b[39mdataframe[\u001b[39m1\u001b[39m]\n\u001b[0;32m     <a href='vscode-notebook-cell:/c%3A/Users/guido/OneDrive/Documentos/GitHub/Cdados/Trabalho.ipynb#X11sZmlsZQ%3D%3D?line=10'>11</a>\u001b[0m \u001b[39m# Append the accuracy to the list\u001b[39;00m\n\u001b[0;32m     <a href='vscode-notebook-cell:/c%3A/Users/guido/OneDrive/Documentos/GitHub/Cdados/Trabalho.ipynb#X11sZmlsZQ%3D%3D?line=11'>12</a>\u001b[0m \u001b[39m#acuracia.append(\u001b[39;00m\n\u001b[1;32m---> <a href='vscode-notebook-cell:/c%3A/Users/guido/OneDrive/Documentos/GitHub/Cdados/Trabalho.ipynb#X11sZmlsZQ%3D%3D?line=12'>13</a>\u001b[0m \u001b[39mprint\u001b[39m(acur(teste, treino))\n",
      "\u001b[1;32mc:\\Users\\guido\\OneDrive\\Documentos\\GitHub\\Cdados\\Trabalho.ipynb Cell 7\u001b[0m line \u001b[0;36m3\n\u001b[0;32m     <a href='vscode-notebook-cell:/c%3A/Users/guido/OneDrive/Documentos/GitHub/Cdados/Trabalho.ipynb#X11sZmlsZQ%3D%3D?line=27'>28</a>\u001b[0m     mensagem[i] \u001b[39m=\u001b[39m \u001b[39m'\u001b[39m\u001b[39m \u001b[39m\u001b[39m'\u001b[39m\u001b[39m.\u001b[39mjoin([k \u001b[39mfor\u001b[39;00m k \u001b[39min\u001b[39;00m mensagem[i]\u001b[39m.\u001b[39msplit(\u001b[39m\"\u001b[39m\u001b[39m \u001b[39m\u001b[39m\"\u001b[39m) \u001b[39mif\u001b[39;00m k \u001b[39mnot\u001b[39;00m \u001b[39min\u001b[39;00m sw])\n\u001b[0;32m     <a href='vscode-notebook-cell:/c%3A/Users/guido/OneDrive/Documentos/GitHub/Cdados/Trabalho.ipynb#X11sZmlsZQ%3D%3D?line=29'>30</a>\u001b[0m \u001b[39mfor\u001b[39;00m i \u001b[39min\u001b[39;00m \u001b[39mrange\u001b[39m(\u001b[39mlen\u001b[39m(target)):\n\u001b[1;32m---> <a href='vscode-notebook-cell:/c%3A/Users/guido/OneDrive/Documentos/GitHub/Cdados/Trabalho.ipynb#X11sZmlsZQ%3D%3D?line=30'>31</a>\u001b[0m     classi\u001b[39m=\u001b[39mprobabilidade_frase(mensagem[i],treino)\n\u001b[0;32m     <a href='vscode-notebook-cell:/c%3A/Users/guido/OneDrive/Documentos/GitHub/Cdados/Trabalho.ipynb#X11sZmlsZQ%3D%3D?line=31'>32</a>\u001b[0m     \u001b[39mif\u001b[39;00m target[i]\u001b[39m==\u001b[39m\u001b[39m'\u001b[39m\u001b[39mNeutro\u001b[39m\u001b[39m'\u001b[39m:\n\u001b[0;32m     <a href='vscode-notebook-cell:/c%3A/Users/guido/OneDrive/Documentos/GitHub/Cdados/Trabalho.ipynb#X11sZmlsZQ%3D%3D?line=32'>33</a>\u001b[0m         \u001b[39mif\u001b[39;00m classi\u001b[39m==\u001b[39mtarget[i]:\n",
      "\u001b[1;32mc:\\Users\\guido\\OneDrive\\Documentos\\GitHub\\Cdados\\Trabalho.ipynb Cell 7\u001b[0m line \u001b[0;36m1\n\u001b[0;32m      <a href='vscode-notebook-cell:/c%3A/Users/guido/OneDrive/Documentos/GitHub/Cdados/Trabalho.ipynb#X11sZmlsZQ%3D%3D?line=7'>8</a>\u001b[0m treino_negativo \u001b[39m=\u001b[39m treino\u001b[39m.\u001b[39mloc[treino\u001b[39m.\u001b[39mTarget\u001b[39m==\u001b[39m\u001b[39m'\u001b[39m\u001b[39mNegativo\u001b[39m\u001b[39m'\u001b[39m , :]\n\u001b[0;32m      <a href='vscode-notebook-cell:/c%3A/Users/guido/OneDrive/Documentos/GitHub/Cdados/Trabalho.ipynb#X11sZmlsZQ%3D%3D?line=8'>9</a>\u001b[0m treino_neutro \u001b[39m=\u001b[39m treino\u001b[39m.\u001b[39mloc[treino\u001b[39m.\u001b[39mTarget\u001b[39m==\u001b[39m\u001b[39m'\u001b[39m\u001b[39mNeutro\u001b[39m\u001b[39m'\u001b[39m , :]\n\u001b[1;32m---> <a href='vscode-notebook-cell:/c%3A/Users/guido/OneDrive/Documentos/GitHub/Cdados/Trabalho.ipynb#X11sZmlsZQ%3D%3D?line=9'>10</a>\u001b[0m palavras_t\u001b[39m=\u001b[39msepara_palavra(treino\u001b[39m.\u001b[39mMensagem)\n\u001b[0;32m     <a href='vscode-notebook-cell:/c%3A/Users/guido/OneDrive/Documentos/GitHub/Cdados/Trabalho.ipynb#X11sZmlsZQ%3D%3D?line=10'>11</a>\u001b[0m palavras_p\u001b[39m=\u001b[39msepara_palavra(treino_positivo\u001b[39m.\u001b[39mMensagem)\n\u001b[0;32m     <a href='vscode-notebook-cell:/c%3A/Users/guido/OneDrive/Documentos/GitHub/Cdados/Trabalho.ipynb#X11sZmlsZQ%3D%3D?line=11'>12</a>\u001b[0m palavras_neg\u001b[39m=\u001b[39msepara_palavra(treino_negativo\u001b[39m.\u001b[39mMensagem)\n",
      "\u001b[1;32mc:\\Users\\guido\\OneDrive\\Documentos\\GitHub\\Cdados\\Trabalho.ipynb Cell 7\u001b[0m line \u001b[0;36m6\n\u001b[0;32m      <a href='vscode-notebook-cell:/c%3A/Users/guido/OneDrive/Documentos/GitHub/Cdados/Trabalho.ipynb#X11sZmlsZQ%3D%3D?line=3'>4</a>\u001b[0m     palavra\u001b[39m=\u001b[39mfrase\u001b[39m.\u001b[39msplit()\n\u001b[0;32m      <a href='vscode-notebook-cell:/c%3A/Users/guido/OneDrive/Documentos/GitHub/Cdados/Trabalho.ipynb#X11sZmlsZQ%3D%3D?line=4'>5</a>\u001b[0m     \u001b[39mfor\u001b[39;00m e \u001b[39min\u001b[39;00m palavra:\n\u001b[1;32m----> <a href='vscode-notebook-cell:/c%3A/Users/guido/OneDrive/Documentos/GitHub/Cdados/Trabalho.ipynb#X11sZmlsZQ%3D%3D?line=5'>6</a>\u001b[0m         palavras\u001b[39m.\u001b[39mappend(e)\n\u001b[0;32m      <a href='vscode-notebook-cell:/c%3A/Users/guido/OneDrive/Documentos/GitHub/Cdados/Trabalho.ipynb#X11sZmlsZQ%3D%3D?line=6'>7</a>\u001b[0m palavras_series\u001b[39m=\u001b[39mpd\u001b[39m.\u001b[39mSeries(palavras)\n\u001b[0;32m      <a href='vscode-notebook-cell:/c%3A/Users/guido/OneDrive/Documentos/GitHub/Cdados/Trabalho.ipynb#X11sZmlsZQ%3D%3D?line=7'>8</a>\u001b[0m tabela_palavras\u001b[39m=\u001b[39mpalavras_series\u001b[39m.\u001b[39mvalue_counts()\n",
      "\u001b[1;31mKeyboardInterrupt\u001b[0m: "
     ]
    }
   ],
   "source": [
    "from sklearn.model_selection import train_test_split\n",
    "#treino, teste = train_test_split(mix, test_size=prop_teste,random_state=1)\n",
    "\n",
    "acuracia = []\n",
    "\n",
    "for i in range(10):\n",
    "    dataframe = train_test_split(total, test_size=0.3)\n",
    "    # Assuming acur function calculates accuracy\n",
    "    treino=dataframe[0]\n",
    "    teste=dataframe[1]\n",
    "    # Append the accuracy to the list\n",
    "    #acuracia.append(\n",
    "    print(acur(teste, treino))\n"
   ]
  }
 ],
 "metadata": {
  "kernelspec": {
   "display_name": "base",
   "language": "python",
   "name": "python3"
  },
  "language_info": {
   "codemirror_mode": {
    "name": "ipython",
    "version": 3
   },
   "file_extension": ".py",
   "mimetype": "text/x-python",
   "name": "python",
   "nbconvert_exporter": "python",
   "pygments_lexer": "ipython3",
   "version": "3.11.4"
  },
  "orig_nbformat": 4
 },
 "nbformat": 4,
 "nbformat_minor": 2
}
