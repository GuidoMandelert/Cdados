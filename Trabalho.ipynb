{
 "cells": [
  {
   "cell_type": "code",
   "execution_count": 120,
   "metadata": {},
   "outputs": [
    {
     "name": "stderr",
     "output_type": "stream",
     "text": [
      "[nltk_data] Downloading package stopwords to\n",
      "[nltk_data]     C:\\Users\\guido\\AppData\\Roaming\\nltk_data...\n",
      "[nltk_data]   Package stopwords is already up-to-date!\n"
     ]
    }
   ],
   "source": [
    "import re\n",
    "%matplotlib inline\n",
    "import pandas as pd\n",
    "import matplotlib.pyplot as plt\n",
    "import numpy as np\n",
    "import os\n",
    "import nltk\n",
    "nltk.download('stopwords')\n",
    "from nltk.corpus import stopwords"
   ]
  },
  {
   "cell_type": "code",
   "execution_count": 121,
   "metadata": {},
   "outputs": [],
   "source": [
    "def limpar_caracteres_especiais(string):\n",
    "\n",
    "    return re.sub(r'[^\\w\\s]', '', string)\n",
    "sw = stopwords.words('portuguese')"
   ]
  },
  {
   "cell_type": "code",
   "execution_count": 122,
   "metadata": {},
   "outputs": [],
   "source": [
    "def separa_palavra(lista):\n",
    "    palavras=[]\n",
    "    for frase in lista:\n",
    "        palavra=frase.split()\n",
    "        for e in palavra:\n",
    "            palavras.append(e)\n",
    "    palavras_series=pd.Series(palavras)\n",
    "    tabela_palavras=palavras_series.value_counts()\n",
    "    return tabela_palavras"
   ]
  },
  {
   "cell_type": "code",
   "execution_count": 123,
   "metadata": {},
   "outputs": [],
   "source": [
    "def probabilidade_frase(frase,treino):\n",
    "    \n",
    "    Positivo=1\n",
    "    Negativo=1\n",
    "    Neutro=1\n",
    "    frase_split=frase.split()\n",
    "    treino_positivo = treino.loc[treino.Target=='Positivo' , :]\n",
    "    treino_negativo = treino.loc[treino.Target=='Negativo' , :]\n",
    "    treino_neutro = treino.loc[treino.Target=='Neutro' , :]\n",
    "    palavras_t=separa_palavra(treino.Mensagem)\n",
    "    palavras_p=separa_palavra(treino_positivo.Mensagem)\n",
    "    palavras_neg=separa_palavra(treino_negativo.Mensagem)\n",
    "    palavras_neu=separa_palavra(treino_neutro.Mensagem)\n",
    "    todas=len(palavras_t)\n",
    "    todas_positivas=sum(palavras_p.values)\n",
    "    todas_negativas=sum(palavras_neg.values)\n",
    "    todas_neutras=sum(palavras_neu.values)\n",
    "\n",
    "\n",
    "\n",
    "    for i in frase_split:\n",
    "        if i not in palavras_t:\n",
    "            palavras_t[i]=0\n",
    "        if i not in palavras_p:\n",
    "            palavras_p[i]=0\n",
    "\n",
    "        \n",
    "        if i not in palavras_neg:\n",
    "            palavras_neg[i]=0    \n",
    "        \n",
    "        \n",
    "        if i not in palavras_neu:\n",
    "            palavras_neu[i]=0 \n",
    "        \n",
    "        \n",
    "        chance_pos=(palavras_p[i]+1)/(todas+todas_positivas)\n",
    "        Positivo*=chance_pos\n",
    "    \n",
    "        chance_neg=(palavras_neg[i]+1)/(todas+todas_negativas)\n",
    "        Negativo*=chance_neg\n",
    "\n",
    "        chance_neu=(palavras_neu[i]+1)/(todas+todas_neutras)\n",
    "        Neutro*=chance_neu\n",
    "\n",
    "    \n",
    "    if Negativo>Positivo and Negativo>Neutro:\n",
    "        return ('Negativo')\n",
    "    elif Positivo>Negativo and Positivo>Neutro:\n",
    "        return ('Positivo')\n",
    "    else:\n",
    "        return('Neutro')\n",
    "    \n"
   ]
  },
  {
   "cell_type": "code",
   "execution_count": 124,
   "metadata": {},
   "outputs": [],
   "source": [
    "def acur(teste,treino):\n",
    "    fpos=0\n",
    "    ppos=0\n",
    "    fneg=0\n",
    "    pneg=0\n",
    "    fneu=0\n",
    "    pneu=0\n",
    "\n",
    "    mensagem_treino=treino.Mensagem\n",
    "    \n",
    "    mensagem_treino = [limpar_caracteres_especiais(string) for string in mensagem_treino]\n",
    "    \n",
    "    mensagem_treino=[string.lower() for string in mensagem_treino]\n",
    "    \n",
    "    for i in range(len(mensagem_treino)):\n",
    "        mensagem_treino[i] = ' '.join([k for k in mensagem_treino[i].split(\" \") if k not in sw])\n",
    "    \n",
    "    treino.Mensagem=mensagem_treino\n",
    "\n",
    "    \n",
    "    \n",
    "    target=[]\n",
    "    for i in teste.Target:\n",
    "        target.append(i)\n",
    "    mensagem=teste.Mensagem\n",
    "    \n",
    "    mensagem = [limpar_caracteres_especiais(string) for string in mensagem]\n",
    "    \n",
    "    mensagem=[string.lower() for string in mensagem]\n",
    "    \n",
    "    for i in range(len(mensagem)):\n",
    "        mensagem[i] = ' '.join([k for k in mensagem[i].split(\" \") if k not in sw])\n",
    "    \n",
    "    for i in range(len(target)):\n",
    "        classi=probabilidade_frase(mensagem[i],treino)\n",
    "        if target[i]=='Neutro':\n",
    "            if classi==target[i]:\n",
    "                pneu+=1\n",
    "            else:\n",
    "                fneu+=1\n",
    "        if target[i]=='Positivo':\n",
    "            if classi==target[i]:\n",
    "                ppos+=1\n",
    "            else:\n",
    "                fpos+=1\n",
    "        if target[i]=='Negativo':\n",
    "            if classi==target[i]:\n",
    "                pneg+=1\n",
    "            else:\n",
    "                fneg+=1\n",
    "    \n",
    "    resp=((ppos+pneu+pneg)/(ppos+fpos+pneg+fneg+pneu+fneu))*100\n",
    "    \n",
    "    return(resp)\n"
   ]
  },
  {
   "cell_type": "code",
   "execution_count": 125,
   "metadata": {},
   "outputs": [],
   "source": [
    "total = pd.read_excel('dados/Total.xlsx')"
   ]
  },
  {
   "cell_type": "code",
   "execution_count": 126,
   "metadata": {},
   "outputs": [
    {
     "name": "stdout",
     "output_type": "stream",
     "text": [
      "80.0\n",
      "77.33333333333333\n",
      "77.0\n",
      "78.66666666666666\n",
      "80.0\n",
      "74.33333333333333\n",
      "74.33333333333333\n",
      "78.0\n",
      "78.0\n",
      "77.66666666666666\n"
     ]
    }
   ],
   "source": [
    "from sklearn.model_selection import train_test_split\n",
    "#treino, teste = train_test_split(mix, test_size=prop_teste,random_state=1)\n",
    "\n",
    "acuracia = []\n",
    "\n",
    "for i in range(10):\n",
    "    dataframe = train_test_split(total, test_size=0.3)\n",
    "    # Assuming acur function calculates accuracy\n",
    "    treino=dataframe[0]\n",
    "    teste=dataframe[1]\n",
    "    # Append the accuracy to the list\n",
    "    #acuracia.append(\n",
    "    print(acur(teste, treino))\n"
   ]
  }
 ],
 "metadata": {
  "kernelspec": {
   "display_name": "base",
   "language": "python",
   "name": "python3"
  },
  "language_info": {
   "codemirror_mode": {
    "name": "ipython",
    "version": 3
   },
   "file_extension": ".py",
   "mimetype": "text/x-python",
   "name": "python",
   "nbconvert_exporter": "python",
   "pygments_lexer": "ipython3",
   "version": "3.11.4"
  },
  "orig_nbformat": 4
 },
 "nbformat": 4,
 "nbformat_minor": 2
}
