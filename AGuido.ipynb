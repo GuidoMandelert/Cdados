{
 "cells": [
  {
   "cell_type": "code",
   "execution_count": 149,
   "metadata": {},
   "outputs": [
    {
     "name": "stdout",
     "output_type": "stream",
     "text": [
      "Olá mundo\n",
      "Este é um exemplo de string com caracteres especiais\n"
     ]
    }
   ],
   "source": [
    "import re\n",
    "lista_strings = [\"Olá, mundo!\", \"Este é um exemplo de string com @caracteres especiais#\"]\n",
    "\n",
    "\n",
    "def limpar_caracteres_especiais(string):\n",
    "\n",
    "    return re.sub(r'[^\\w\\s]', '', string)\n",
    "\n",
    "\n",
    "lista_limpa = [limpar_caracteres_especiais(string) for string in lista_strings]\n",
    "\n",
    "\n",
    "for string in lista_limpa:\n",
    "    print(string)"
   ]
  },
  {
   "cell_type": "code",
   "execution_count": 150,
   "metadata": {},
   "outputs": [],
   "source": [
    "%matplotlib inline\n",
    "import pandas as pd\n",
    "import matplotlib.pyplot as plt\n",
    "import numpy as np\n",
    "import os"
   ]
  },
  {
   "cell_type": "code",
   "execution_count": 151,
   "metadata": {},
   "outputs": [
    {
     "name": "stdout",
     "output_type": "stream",
     "text": [
      "Esperamos trabalhar no diretório\n",
      "c:\\Users\\guido\\OneDrive\\Documentos\\GitHub\\Cdados\n"
     ]
    }
   ],
   "source": [
    "print('Esperamos trabalhar no diretório')\n",
    "print(os.getcwd())"
   ]
  },
  {
   "cell_type": "code",
   "execution_count": 152,
   "metadata": {},
   "outputs": [
    {
     "data": {
      "text/html": [
       "<div>\n",
       "<style scoped>\n",
       "    .dataframe tbody tr th:only-of-type {\n",
       "        vertical-align: middle;\n",
       "    }\n",
       "\n",
       "    .dataframe tbody tr th {\n",
       "        vertical-align: top;\n",
       "    }\n",
       "\n",
       "    .dataframe thead th {\n",
       "        text-align: right;\n",
       "    }\n",
       "</style>\n",
       "<table border=\"1\" class=\"dataframe\">\n",
       "  <thead>\n",
       "    <tr style=\"text-align: right;\">\n",
       "      <th></th>\n",
       "      <th>Target</th>\n",
       "      <th>Mensagem</th>\n",
       "    </tr>\n",
       "  </thead>\n",
       "  <tbody>\n",
       "    <tr>\n",
       "      <th>0</th>\n",
       "      <td>Positivo</td>\n",
       "      <td>Leitura rápida, com algumas dicas para expandi...</td>\n",
       "    </tr>\n",
       "    <tr>\n",
       "      <th>1</th>\n",
       "      <td>Neutro</td>\n",
       "      <td>Coaching virou um grande modismo, assim como c...</td>\n",
       "    </tr>\n",
       "    <tr>\n",
       "      <th>2</th>\n",
       "      <td>Negativo</td>\n",
       "      <td>O fundo da história é pra se pensar. Mas é mui...</td>\n",
       "    </tr>\n",
       "    <tr>\n",
       "      <th>3</th>\n",
       "      <td>Neutro</td>\n",
       "      <td>A tradução é péssima e diferente do original. ...</td>\n",
       "    </tr>\n",
       "    <tr>\n",
       "      <th>4</th>\n",
       "      <td>Negativo</td>\n",
       "      <td>Achei sem graça esse livro. Tópicos de livros ...</td>\n",
       "    </tr>\n",
       "  </tbody>\n",
       "</table>\n",
       "</div>"
      ],
      "text/plain": [
       "     Target                                           Mensagem\n",
       "0  Positivo  Leitura rápida, com algumas dicas para expandi...\n",
       "1    Neutro  Coaching virou um grande modismo, assim como c...\n",
       "2  Negativo  O fundo da história é pra se pensar. Mas é mui...\n",
       "3    Neutro  A tradução é péssima e diferente do original. ...\n",
       "4  Negativo  Achei sem graça esse livro. Tópicos de livros ..."
      ]
     },
     "execution_count": 152,
     "metadata": {},
     "output_type": "execute_result"
    }
   ],
   "source": [
    "train = pd.read_excel('Dados\\dados_treino.xlsx')\n",
    "train.head(5)"
   ]
  },
  {
   "cell_type": "code",
   "execution_count": 153,
   "metadata": {},
   "outputs": [
    {
     "data": {
      "text/html": [
       "<div>\n",
       "<style scoped>\n",
       "    .dataframe tbody tr th:only-of-type {\n",
       "        vertical-align: middle;\n",
       "    }\n",
       "\n",
       "    .dataframe tbody tr th {\n",
       "        vertical-align: top;\n",
       "    }\n",
       "\n",
       "    .dataframe thead th {\n",
       "        text-align: right;\n",
       "    }\n",
       "</style>\n",
       "<table border=\"1\" class=\"dataframe\">\n",
       "  <thead>\n",
       "    <tr style=\"text-align: right;\">\n",
       "      <th></th>\n",
       "      <th>Target</th>\n",
       "      <th>Mensagem</th>\n",
       "    </tr>\n",
       "  </thead>\n",
       "  <tbody>\n",
       "    <tr>\n",
       "      <th>0</th>\n",
       "      <td>Neutro</td>\n",
       "      <td>É incrível como os sebos não tem noção, vendem...</td>\n",
       "    </tr>\n",
       "    <tr>\n",
       "      <th>1</th>\n",
       "      <td>Negativo</td>\n",
       "      <td>Livro sem nenhuma coisa de diferente. Autor ba...</td>\n",
       "    </tr>\n",
       "    <tr>\n",
       "      <th>2</th>\n",
       "      <td>Negativo</td>\n",
       "      <td>Bem fraco. Achei muito forçada a ligação com o...</td>\n",
       "    </tr>\n",
       "    <tr>\n",
       "      <th>3</th>\n",
       "      <td>Neutro</td>\n",
       "      <td>A caixa veio rasgada. como fazia mais de sete ...</td>\n",
       "    </tr>\n",
       "    <tr>\n",
       "      <th>4</th>\n",
       "      <td>Negativo</td>\n",
       "      <td>Que livro chato, gente quase não consegui term...</td>\n",
       "    </tr>\n",
       "  </tbody>\n",
       "</table>\n",
       "</div>"
      ],
      "text/plain": [
       "     Target                                           Mensagem\n",
       "0    Neutro  É incrível como os sebos não tem noção, vendem...\n",
       "1  Negativo  Livro sem nenhuma coisa de diferente. Autor ba...\n",
       "2  Negativo  Bem fraco. Achei muito forçada a ligação com o...\n",
       "3    Neutro  A caixa veio rasgada. como fazia mais de sete ...\n",
       "4  Negativo  Que livro chato, gente quase não consegui term..."
      ]
     },
     "execution_count": 153,
     "metadata": {},
     "output_type": "execute_result"
    }
   ],
   "source": [
    "test = pd.read_excel('dados/dados_teste.xlsx')\n",
    "test.head(5)"
   ]
  },
  {
   "cell_type": "code",
   "execution_count": 154,
   "metadata": {},
   "outputs": [
    {
     "data": {
      "text/html": [
       "<div>\n",
       "<style scoped>\n",
       "    .dataframe tbody tr th:only-of-type {\n",
       "        vertical-align: middle;\n",
       "    }\n",
       "\n",
       "    .dataframe tbody tr th {\n",
       "        vertical-align: top;\n",
       "    }\n",
       "\n",
       "    .dataframe thead th {\n",
       "        text-align: right;\n",
       "    }\n",
       "</style>\n",
       "<table border=\"1\" class=\"dataframe\">\n",
       "  <thead>\n",
       "    <tr style=\"text-align: right;\">\n",
       "      <th></th>\n",
       "      <th>Target</th>\n",
       "      <th>Mensagem</th>\n",
       "    </tr>\n",
       "  </thead>\n",
       "  <tbody>\n",
       "    <tr>\n",
       "      <th>0</th>\n",
       "      <td>Positivo</td>\n",
       "      <td>leitura rápida com algumas dicas para expandir...</td>\n",
       "    </tr>\n",
       "    <tr>\n",
       "      <th>1</th>\n",
       "      <td>Neutro</td>\n",
       "      <td>coaching virou um grande modismo assim como cr...</td>\n",
       "    </tr>\n",
       "    <tr>\n",
       "      <th>2</th>\n",
       "      <td>Negativo</td>\n",
       "      <td>o fundo da história é pra se pensar mas é muit...</td>\n",
       "    </tr>\n",
       "    <tr>\n",
       "      <th>3</th>\n",
       "      <td>Neutro</td>\n",
       "      <td>a tradução é péssima e diferente do original a...</td>\n",
       "    </tr>\n",
       "    <tr>\n",
       "      <th>4</th>\n",
       "      <td>Negativo</td>\n",
       "      <td>achei sem graça esse livro tópicos de livros a...</td>\n",
       "    </tr>\n",
       "    <tr>\n",
       "      <th>...</th>\n",
       "      <td>...</td>\n",
       "      <td>...</td>\n",
       "    </tr>\n",
       "    <tr>\n",
       "      <th>745</th>\n",
       "      <td>Negativo</td>\n",
       "      <td>conteúdo superficial onde se propõe nas dicas ...</td>\n",
       "    </tr>\n",
       "    <tr>\n",
       "      <th>746</th>\n",
       "      <td>Negativo</td>\n",
       "      <td>péssimo</td>\n",
       "    </tr>\n",
       "    <tr>\n",
       "      <th>747</th>\n",
       "      <td>Negativo</td>\n",
       "      <td>autor confunde tecnicas de coaching com religi...</td>\n",
       "    </tr>\n",
       "    <tr>\n",
       "      <th>748</th>\n",
       "      <td>Negativo</td>\n",
       "      <td>livro superficial escrito para impressionar os...</td>\n",
       "    </tr>\n",
       "    <tr>\n",
       "      <th>749</th>\n",
       "      <td>Negativo</td>\n",
       "      <td>é incrível como os sebos não tem noção vendem ...</td>\n",
       "    </tr>\n",
       "  </tbody>\n",
       "</table>\n",
       "<p>750 rows × 2 columns</p>\n",
       "</div>"
      ],
      "text/plain": [
       "       Target                                           Mensagem\n",
       "0    Positivo  leitura rápida com algumas dicas para expandir...\n",
       "1      Neutro  coaching virou um grande modismo assim como cr...\n",
       "2    Negativo  o fundo da história é pra se pensar mas é muit...\n",
       "3      Neutro  a tradução é péssima e diferente do original a...\n",
       "4    Negativo  achei sem graça esse livro tópicos de livros a...\n",
       "..        ...                                                ...\n",
       "745  Negativo  conteúdo superficial onde se propõe nas dicas ...\n",
       "746  Negativo                                            péssimo\n",
       "747  Negativo  autor confunde tecnicas de coaching com religi...\n",
       "748  Negativo  livro superficial escrito para impressionar os...\n",
       "749  Negativo  é incrível como os sebos não tem noção vendem ...\n",
       "\n",
       "[750 rows x 2 columns]"
      ]
     },
     "execution_count": 154,
     "metadata": {},
     "output_type": "execute_result"
    }
   ],
   "source": [
    "df = pd.read_excel('dados/dados_treino.xlsx')\n",
    "\n",
    "coluna_especifica = df['Mensagem']\n",
    "\n",
    "\n",
    "\n",
    "def limpar_caracteres_especiais(string):\n",
    "\n",
    "    return re.sub(r'[^\\w\\s]', '', string)\n",
    "\n",
    "\n",
    "nova_coluna_especifica = [limpar_caracteres_especiais(string) for string in coluna_especifica]\n",
    "nova_coluna_especifica=[string.lower() for string in nova_coluna_especifica]\n",
    "train.Mensagem=nova_coluna_especifica\n",
    "train\n"
   ]
  },
  {
   "cell_type": "code",
   "execution_count": 165,
   "metadata": {},
   "outputs": [
    {
     "data": {
      "text/plain": [
       "de             1288\n",
       "o              1288\n",
       "que            1203\n",
       "a              1182\n",
       "e              1119\n",
       "               ... \n",
       "temer             1\n",
       "salvadoras        1\n",
       "desajeitado       1\n",
       "embarcar          1\n",
       "autorais          1\n",
       "Length: 6556, dtype: int64"
      ]
     },
     "execution_count": 165,
     "metadata": {},
     "output_type": "execute_result"
    }
   ],
   "source": [
    "palavras=[]\n",
    "\n",
    "def separa_palavra(lista):\n",
    "    palavras=[]\n",
    "    for frase in lista:\n",
    "        palavra=frase.split()\n",
    "        for e in palavra:\n",
    "            palavras.append(e)\n",
    "    palavras_series=pd.Series(palavras)\n",
    "    tabela_palavras=palavras_series.value_counts()\n",
    "    return tabela_palavras\n",
    "tabela_palavras=separa_palavra(train.Mensagem)\n",
    "tabela_palavras"
   ]
  },
  {
   "cell_type": "code",
   "execution_count": 168,
   "metadata": {},
   "outputs": [
    {
     "name": "stdout",
     "output_type": "stream",
     "text": [
      "       Target                                           Mensagem\n",
      "0    Positivo  Leitura rápida, com algumas dicas para expandi...\n",
      "16   Positivo  O livro é escrito por um dos mais reacionários...\n",
      "28   Positivo  Sim.adorei o livro Vou continuar a comprar o r...\n",
      "32   Positivo  Olar, Frequentemente tendo sua marca, merecida...\n",
      "154  Positivo  Eu entendi a proposta do livro. Creio que pode...\n",
      "214  Positivo  Para quem gosta de poemas simples, esse é o li...\n",
      "216  Positivo  O livro é excelente. Um clássico. Assim que fi...\n",
      "234  Positivo  Eu estava querendo reler esse livro, mas ao me...\n",
      "257  Positivo  O conteúdo é muito bom, uma forma diferente de...\n",
      "278  Positivo  Um livro sensacional. Tenho aplicado o conceit...\n",
      "282  Positivo  Amei!  Devorei esses livros em 15 dias, gostei...\n",
      "308  Positivo  A primeira coisa que devo dizer sobre o livro ...\n",
      "322  Positivo  Olá! Abaixo, cópia da mensagem enviada à Edito...\n",
      "323  Positivo  O livro é bom para quem está perdido na vida. ...\n",
      "330  Positivo  O conteúdo do livro é excepcionalmente excelen...\n",
      "354  Positivo  O livro é incrível e queria reler... Mas o val...\n",
      "369  Positivo  O livro é muito repetitivo no começo, o que to...\n",
      "371  Positivo  O livro é incrível, porém fiquei bastante chat...\n",
      "394  Positivo  Ótimo livro, porém veio bem danificado. Página...\n",
      "443  Positivo  A obra de Arthur Conan Doyale é simplesmente e...\n",
      "454  Positivo  O texto é fluido e leitura agradável. Mas a hi...\n",
      "502  Positivo  Um bom livro contando bela história.Mas o form...\n",
      "503  Positivo  O livro é excelente! No entanto, a tradução te...\n",
      "507  Positivo  O box é maravilhoso, mas dois dos livros viera...\n",
      "515  Positivo  Os neologismos nesta versão do livro são bons,...\n",
      "524  Positivo  Sinceramente, também estou tentando entender c...\n",
      "533  Positivo  Gostei mais de Sapiens, uma leitura mais bioló...\n",
      "552  Positivo  Bom Livro, baseado em um só tema, mas parece u...\n",
      "553  Positivo  Talvez a tradução antiga tivesse um pouco mais...\n",
      "558  Positivo  A coleção é maravilhosa, Sir Arthur Conan Doyl...\n",
      "560  Positivo  Gostei de tudo, é engraçado dois personagem di...\n",
      "564  Positivo  O nome do livro e seu plot twist são as grande...\n",
      "595  Positivo  A literatura em si não há o que contestar: um ...\n",
      "596  Positivo  A história dispensa comentários, é um dos maio...\n",
      "610  Positivo  A edição é maravilhosa, o preço bom, contudo, ...\n",
      "611  Positivo  As ilustrações da capa dos livros são de fato ...\n",
      "616  Positivo  Conseguir ler um pouco do livro, e nesse pouco...\n",
      "619  Positivo  Por ser versão pocket se espera uma qualidade ...\n",
      "624  Positivo  A melhor edição de A Divina Comédia é da Itati...\n",
      "625  Positivo  A história é muito bem contada. Intensa. Leva ...\n",
      "628  Positivo  O livro tem muitas coisas boas sobre o assunto...\n",
      "631  Positivo  É um daqueles livros de leitura rápida. Achei ...\n",
      "654  Positivo  Não consigo entender o alto valor desses e-boo...\n",
      "659  Positivo  o livro é bom, mas me confundi bastante, as pa...\n",
      "669  Positivo  Gostei mt, porem fiquei desapontado pq o box v...\n",
      "670  Positivo  O livro é muito bom mas a edição é péssima! Fo...\n",
      "687  Positivo  Incrível e misterioso, logo, logo vou ler o se...\n",
      "693  Positivo  Boa estória. Quis ler antes de ver o filme, qu...\n",
      "715  Positivo  Tão emocionante quanto o primeiro volume. Dand...\n",
      "723  Positivo  Trilogia perfeita!!!!!!!! Recomendo!!!! Melhor...\n",
      "726  Positivo  O livro em sim é excelente, com imagens muito ...\n",
      "731  Positivo  Em diversas partes do livro o autor compara a ...\n"
     ]
    }
   ],
   "source": [
    "train.Target=train.Target.astype('category')\n",
    "test.Target=test.Target.astype('category')\n",
    "train_positivo = df[train.Target == 'Positivo']\n",
    "train_negativo = df[train.Target == 'Negativo']\n",
    "train_neutro = df[train.Target == 'Neutro']\n",
    "tabela_train_positivo=separa_palavra(train_positivo.Mensagem)\n",
    "tabela_train_positivo\n",
    "print(train_positivo)"
   ]
  },
  {
   "cell_type": "code",
   "execution_count": 157,
   "metadata": {},
   "outputs": [
    {
     "data": {
      "text/html": [
       "<div>\n",
       "<style scoped>\n",
       "    .dataframe tbody tr th:only-of-type {\n",
       "        vertical-align: middle;\n",
       "    }\n",
       "\n",
       "    .dataframe tbody tr th {\n",
       "        vertical-align: top;\n",
       "    }\n",
       "\n",
       "    .dataframe thead th {\n",
       "        text-align: right;\n",
       "    }\n",
       "</style>\n",
       "<table border=\"1\" class=\"dataframe\">\n",
       "  <thead>\n",
       "    <tr style=\"text-align: right;\">\n",
       "      <th></th>\n",
       "      <th>Target</th>\n",
       "      <th>Mensagem</th>\n",
       "    </tr>\n",
       "  </thead>\n",
       "  <tbody>\n",
       "    <tr>\n",
       "      <th>2</th>\n",
       "      <td>Negativo</td>\n",
       "      <td>O fundo da história é pra se pensar. Mas é mui...</td>\n",
       "    </tr>\n",
       "    <tr>\n",
       "      <th>4</th>\n",
       "      <td>Negativo</td>\n",
       "      <td>Achei sem graça esse livro. Tópicos de livros ...</td>\n",
       "    </tr>\n",
       "    <tr>\n",
       "      <th>5</th>\n",
       "      <td>Negativo</td>\n",
       "      <td>Este livro é para ser lido como se estivesse l...</td>\n",
       "    </tr>\n",
       "    <tr>\n",
       "      <th>6</th>\n",
       "      <td>Negativo</td>\n",
       "      <td>Péssimo. Difícil uma biografia tão ruim como e...</td>\n",
       "    </tr>\n",
       "    <tr>\n",
       "      <th>9</th>\n",
       "      <td>Negativo</td>\n",
       "      <td>O conteúdo é interessante mas está parecendo q...</td>\n",
       "    </tr>\n",
       "    <tr>\n",
       "      <th>...</th>\n",
       "      <td>...</td>\n",
       "      <td>...</td>\n",
       "    </tr>\n",
       "    <tr>\n",
       "      <th>745</th>\n",
       "      <td>Negativo</td>\n",
       "      <td>Conteúdo superficial onde se propõe nas dicas ...</td>\n",
       "    </tr>\n",
       "    <tr>\n",
       "      <th>746</th>\n",
       "      <td>Negativo</td>\n",
       "      <td>Péssimo</td>\n",
       "    </tr>\n",
       "    <tr>\n",
       "      <th>747</th>\n",
       "      <td>Negativo</td>\n",
       "      <td>autor confunde tecnicas de coaching com religi...</td>\n",
       "    </tr>\n",
       "    <tr>\n",
       "      <th>748</th>\n",
       "      <td>Negativo</td>\n",
       "      <td>Livro superficial, escrito para impressionar o...</td>\n",
       "    </tr>\n",
       "    <tr>\n",
       "      <th>749</th>\n",
       "      <td>Negativo</td>\n",
       "      <td>É incrível como os sebos não tem noção, vendem...</td>\n",
       "    </tr>\n",
       "  </tbody>\n",
       "</table>\n",
       "<p>459 rows × 2 columns</p>\n",
       "</div>"
      ],
      "text/plain": [
       "       Target                                           Mensagem\n",
       "2    Negativo  O fundo da história é pra se pensar. Mas é mui...\n",
       "4    Negativo  Achei sem graça esse livro. Tópicos de livros ...\n",
       "5    Negativo  Este livro é para ser lido como se estivesse l...\n",
       "6    Negativo  Péssimo. Difícil uma biografia tão ruim como e...\n",
       "9    Negativo  O conteúdo é interessante mas está parecendo q...\n",
       "..        ...                                                ...\n",
       "745  Negativo  Conteúdo superficial onde se propõe nas dicas ...\n",
       "746  Negativo                                            Péssimo\n",
       "747  Negativo  autor confunde tecnicas de coaching com religi...\n",
       "748  Negativo  Livro superficial, escrito para impressionar o...\n",
       "749  Negativo  É incrível como os sebos não tem noção, vendem...\n",
       "\n",
       "[459 rows x 2 columns]"
      ]
     },
     "execution_count": 157,
     "metadata": {},
     "output_type": "execute_result"
    }
   ],
   "source": [
    "train_negativo"
   ]
  },
  {
   "cell_type": "code",
   "execution_count": 158,
   "metadata": {},
   "outputs": [
    {
     "data": {
      "text/plain": [
       "de              858\n",
       "que             782\n",
       "e               686\n",
       "a               596\n",
       "o               595\n",
       "               ... \n",
       "amava             1\n",
       "egocêntrico,      1\n",
       "envolvida         1\n",
       "contas,           1\n",
       "autorais.         1\n",
       "Length: 6817, dtype: int64"
      ]
     },
     "execution_count": 158,
     "metadata": {},
     "output_type": "execute_result"
    }
   ],
   "source": [
    "tabela_train_negativo=separa_palavra(train_negativo.Mensagem)\n",
    "tabela_train_negativo"
   ]
  },
  {
   "cell_type": "code",
   "execution_count": 159,
   "metadata": {},
   "outputs": [
    {
     "data": {
      "text/plain": [
       "o             327\n",
       "a             327\n",
       "de            311\n",
       "que           302\n",
       "e             292\n",
       "             ... \n",
       "absurdo...      1\n",
       "rever           1\n",
       "preços,         1\n",
       "beiram          1\n",
       "retorno.        1\n",
       "Length: 3401, dtype: int64"
      ]
     },
     "execution_count": 159,
     "metadata": {},
     "output_type": "execute_result"
    }
   ],
   "source": [
    "tabela_train_neutro=separa_palavra(train_neutro.Mensagem)\n",
    "tabela_train_neutro"
   ]
  },
  {
   "cell_type": "code",
   "execution_count": 160,
   "metadata": {},
   "outputs": [
    {
     "data": {
      "text/plain": [
       "0      Positivo\n",
       "1        Neutro\n",
       "2      Negativo\n",
       "3        Neutro\n",
       "4      Negativo\n",
       "         ...   \n",
       "745    Negativo\n",
       "746    Negativo\n",
       "747    Negativo\n",
       "748    Negativo\n",
       "749    Negativo\n",
       "Name: Target, Length: 750, dtype: category\n",
       "Categories (3, object): ['Negativo', 'Neutro', 'Positivo']"
      ]
     },
     "execution_count": 160,
     "metadata": {},
     "output_type": "execute_result"
    }
   ],
   "source": [
    "train.Target=train.Target.astype('category')\n",
    "train.Target"
   ]
  },
  {
   "cell_type": "code",
   "execution_count": 161,
   "metadata": {},
   "outputs": [
    {
     "name": "stdout",
     "output_type": "stream",
     "text": [
      "1      Neutro\n",
      "3      Neutro\n",
      "7      Neutro\n",
      "8      Neutro\n",
      "10     Neutro\n",
      "        ...  \n",
      "711    Neutro\n",
      "719    Neutro\n",
      "725    Neutro\n",
      "729    Neutro\n",
      "734    Neutro\n",
      "Name: Target, Length: 239, dtype: object\n"
     ]
    }
   ],
   "source": [
    "print(train_neutro.Target)"
   ]
  },
  {
   "cell_type": "code",
   "execution_count": 162,
   "metadata": {},
   "outputs": [
    {
     "name": "stdout",
     "output_type": "stream",
     "text": [
      "2      Negativo\n",
      "4      Negativo\n",
      "5      Negativo\n",
      "6      Negativo\n",
      "9      Negativo\n",
      "         ...   \n",
      "745    Negativo\n",
      "746    Negativo\n",
      "747    Negativo\n",
      "748    Negativo\n",
      "749    Negativo\n",
      "Name: Target, Length: 459, dtype: object\n"
     ]
    }
   ],
   "source": [
    "print(train_negativo.Target)"
   ]
  },
  {
   "cell_type": "code",
   "execution_count": 163,
   "metadata": {},
   "outputs": [
    {
     "name": "stdout",
     "output_type": "stream",
     "text": [
      "52\n"
     ]
    }
   ],
   "source": [
    "\n",
    "print(len(train_positivo.Target))"
   ]
  }
 ],
 "metadata": {
  "kernelspec": {
   "display_name": "base",
   "language": "python",
   "name": "python3"
  },
  "language_info": {
   "codemirror_mode": {
    "name": "ipython",
    "version": 3
   },
   "file_extension": ".py",
   "mimetype": "text/x-python",
   "name": "python",
   "nbconvert_exporter": "python",
   "pygments_lexer": "ipython3",
   "version": "3.11.4"
  },
  "orig_nbformat": 4
 },
 "nbformat": 4,
 "nbformat_minor": 2
}
