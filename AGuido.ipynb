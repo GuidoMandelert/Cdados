{
 "cells": [
  {
   "cell_type": "code",
   "execution_count": 24,
   "metadata": {},
   "outputs": [
    {
     "name": "stdout",
     "output_type": "stream",
     "text": [
      "Olá mundo\n",
      "Este é um exemplo de string com caracteres especiais\n"
     ]
    }
   ],
   "source": [
    "import re\n",
    "lista_strings = [\"Olá, mundo!\", \"Este é um exemplo de string com @caracteres especiais#\"]\n",
    "\n",
    "\n",
    "def limpar_caracteres_especiais(string):\n",
    "\n",
    "    return re.sub(r'[^\\w\\s]', '', string)\n",
    "\n",
    "\n",
    "lista_limpa = [limpar_caracteres_especiais(string) for string in lista_strings]\n",
    "\n",
    "\n",
    "for string in lista_limpa:\n",
    "    print(string)"
   ]
  },
  {
   "cell_type": "code",
   "execution_count": 25,
   "metadata": {},
   "outputs": [],
   "source": [
    "%matplotlib inline\n",
    "import pandas as pd\n",
    "import matplotlib.pyplot as plt\n",
    "import numpy as np\n",
    "import os"
   ]
  },
  {
   "cell_type": "code",
   "execution_count": 26,
   "metadata": {},
   "outputs": [
    {
     "name": "stdout",
     "output_type": "stream",
     "text": [
      "Esperamos trabalhar no diretório\n",
      "c:\\Users\\guido\\OneDrive\\Documentos\\GitHub\\Cdados\n"
     ]
    }
   ],
   "source": [
    "print('Esperamos trabalhar no diretório')\n",
    "print(os.getcwd())"
   ]
  },
  {
   "cell_type": "code",
   "execution_count": 27,
   "metadata": {},
   "outputs": [
    {
     "data": {
      "text/html": [
       "<div>\n",
       "<style scoped>\n",
       "    .dataframe tbody tr th:only-of-type {\n",
       "        vertical-align: middle;\n",
       "    }\n",
       "\n",
       "    .dataframe tbody tr th {\n",
       "        vertical-align: top;\n",
       "    }\n",
       "\n",
       "    .dataframe thead th {\n",
       "        text-align: right;\n",
       "    }\n",
       "</style>\n",
       "<table border=\"1\" class=\"dataframe\">\n",
       "  <thead>\n",
       "    <tr style=\"text-align: right;\">\n",
       "      <th></th>\n",
       "      <th>Target</th>\n",
       "      <th>Mensagem</th>\n",
       "    </tr>\n",
       "  </thead>\n",
       "  <tbody>\n",
       "    <tr>\n",
       "      <th>0</th>\n",
       "      <td>Positivo</td>\n",
       "      <td>Leitura rápida, com algumas dicas para expandi...</td>\n",
       "    </tr>\n",
       "    <tr>\n",
       "      <th>1</th>\n",
       "      <td>Neutro</td>\n",
       "      <td>Coaching virou um grande modismo, assim como c...</td>\n",
       "    </tr>\n",
       "    <tr>\n",
       "      <th>2</th>\n",
       "      <td>Negativo</td>\n",
       "      <td>O fundo da história é pra se pensar. Mas é mui...</td>\n",
       "    </tr>\n",
       "    <tr>\n",
       "      <th>3</th>\n",
       "      <td>Neutro</td>\n",
       "      <td>A tradução é péssima e diferente do original. ...</td>\n",
       "    </tr>\n",
       "    <tr>\n",
       "      <th>4</th>\n",
       "      <td>Negativo</td>\n",
       "      <td>Achei sem graça esse livro. Tópicos de livros ...</td>\n",
       "    </tr>\n",
       "  </tbody>\n",
       "</table>\n",
       "</div>"
      ],
      "text/plain": [
       "     Target                                           Mensagem\n",
       "0  Positivo  Leitura rápida, com algumas dicas para expandi...\n",
       "1    Neutro  Coaching virou um grande modismo, assim como c...\n",
       "2  Negativo  O fundo da história é pra se pensar. Mas é mui...\n",
       "3    Neutro  A tradução é péssima e diferente do original. ...\n",
       "4  Negativo  Achei sem graça esse livro. Tópicos de livros ..."
      ]
     },
     "execution_count": 27,
     "metadata": {},
     "output_type": "execute_result"
    }
   ],
   "source": [
    "train = pd.read_excel('Dados\\dados_treino.xlsx')\n",
    "train.head(5)"
   ]
  },
  {
   "cell_type": "code",
   "execution_count": 28,
   "metadata": {},
   "outputs": [
    {
     "data": {
      "text/html": [
       "<div>\n",
       "<style scoped>\n",
       "    .dataframe tbody tr th:only-of-type {\n",
       "        vertical-align: middle;\n",
       "    }\n",
       "\n",
       "    .dataframe tbody tr th {\n",
       "        vertical-align: top;\n",
       "    }\n",
       "\n",
       "    .dataframe thead th {\n",
       "        text-align: right;\n",
       "    }\n",
       "</style>\n",
       "<table border=\"1\" class=\"dataframe\">\n",
       "  <thead>\n",
       "    <tr style=\"text-align: right;\">\n",
       "      <th></th>\n",
       "      <th>Target</th>\n",
       "      <th>Mensagem</th>\n",
       "    </tr>\n",
       "  </thead>\n",
       "  <tbody>\n",
       "    <tr>\n",
       "      <th>0</th>\n",
       "      <td>Neutro</td>\n",
       "      <td>É incrível como os sebos não tem noção, vendem...</td>\n",
       "    </tr>\n",
       "    <tr>\n",
       "      <th>1</th>\n",
       "      <td>Negativo</td>\n",
       "      <td>Livro sem nenhuma coisa de diferente. Autor ba...</td>\n",
       "    </tr>\n",
       "    <tr>\n",
       "      <th>2</th>\n",
       "      <td>Negativo</td>\n",
       "      <td>Bem fraco. Achei muito forçada a ligação com o...</td>\n",
       "    </tr>\n",
       "    <tr>\n",
       "      <th>3</th>\n",
       "      <td>Neutro</td>\n",
       "      <td>A caixa veio rasgada. como fazia mais de sete ...</td>\n",
       "    </tr>\n",
       "    <tr>\n",
       "      <th>4</th>\n",
       "      <td>Negativo</td>\n",
       "      <td>Que livro chato, gente quase não consegui term...</td>\n",
       "    </tr>\n",
       "  </tbody>\n",
       "</table>\n",
       "</div>"
      ],
      "text/plain": [
       "     Target                                           Mensagem\n",
       "0    Neutro  É incrível como os sebos não tem noção, vendem...\n",
       "1  Negativo  Livro sem nenhuma coisa de diferente. Autor ba...\n",
       "2  Negativo  Bem fraco. Achei muito forçada a ligação com o...\n",
       "3    Neutro  A caixa veio rasgada. como fazia mais de sete ...\n",
       "4  Negativo  Que livro chato, gente quase não consegui term..."
      ]
     },
     "execution_count": 28,
     "metadata": {},
     "output_type": "execute_result"
    }
   ],
   "source": [
    "test = pd.read_excel('dados/dados_teste.xlsx')\n",
    "test.head(5)"
   ]
  },
  {
   "cell_type": "code",
   "execution_count": 29,
   "metadata": {},
   "outputs": [
    {
     "data": {
      "text/html": [
       "<div>\n",
       "<style scoped>\n",
       "    .dataframe tbody tr th:only-of-type {\n",
       "        vertical-align: middle;\n",
       "    }\n",
       "\n",
       "    .dataframe tbody tr th {\n",
       "        vertical-align: top;\n",
       "    }\n",
       "\n",
       "    .dataframe thead th {\n",
       "        text-align: right;\n",
       "    }\n",
       "</style>\n",
       "<table border=\"1\" class=\"dataframe\">\n",
       "  <thead>\n",
       "    <tr style=\"text-align: right;\">\n",
       "      <th></th>\n",
       "      <th>Target</th>\n",
       "      <th>Mensagem</th>\n",
       "    </tr>\n",
       "  </thead>\n",
       "  <tbody>\n",
       "    <tr>\n",
       "      <th>0</th>\n",
       "      <td>Positivo</td>\n",
       "      <td>leitura rápida com algumas dicas para expandir...</td>\n",
       "    </tr>\n",
       "    <tr>\n",
       "      <th>1</th>\n",
       "      <td>Neutro</td>\n",
       "      <td>coaching virou um grande modismo assim como cr...</td>\n",
       "    </tr>\n",
       "    <tr>\n",
       "      <th>2</th>\n",
       "      <td>Negativo</td>\n",
       "      <td>o fundo da história é pra se pensar mas é muit...</td>\n",
       "    </tr>\n",
       "    <tr>\n",
       "      <th>3</th>\n",
       "      <td>Neutro</td>\n",
       "      <td>a tradução é péssima e diferente do original a...</td>\n",
       "    </tr>\n",
       "    <tr>\n",
       "      <th>4</th>\n",
       "      <td>Negativo</td>\n",
       "      <td>achei sem graça esse livro tópicos de livros a...</td>\n",
       "    </tr>\n",
       "    <tr>\n",
       "      <th>...</th>\n",
       "      <td>...</td>\n",
       "      <td>...</td>\n",
       "    </tr>\n",
       "    <tr>\n",
       "      <th>745</th>\n",
       "      <td>Negativo</td>\n",
       "      <td>conteúdo superficial onde se propõe nas dicas ...</td>\n",
       "    </tr>\n",
       "    <tr>\n",
       "      <th>746</th>\n",
       "      <td>Negativo</td>\n",
       "      <td>péssimo</td>\n",
       "    </tr>\n",
       "    <tr>\n",
       "      <th>747</th>\n",
       "      <td>Negativo</td>\n",
       "      <td>autor confunde tecnicas de coaching com religi...</td>\n",
       "    </tr>\n",
       "    <tr>\n",
       "      <th>748</th>\n",
       "      <td>Negativo</td>\n",
       "      <td>livro superficial escrito para impressionar os...</td>\n",
       "    </tr>\n",
       "    <tr>\n",
       "      <th>749</th>\n",
       "      <td>Negativo</td>\n",
       "      <td>é incrível como os sebos não tem noção vendem ...</td>\n",
       "    </tr>\n",
       "  </tbody>\n",
       "</table>\n",
       "<p>750 rows × 2 columns</p>\n",
       "</div>"
      ],
      "text/plain": [
       "       Target                                           Mensagem\n",
       "0    Positivo  leitura rápida com algumas dicas para expandir...\n",
       "1      Neutro  coaching virou um grande modismo assim como cr...\n",
       "2    Negativo  o fundo da história é pra se pensar mas é muit...\n",
       "3      Neutro  a tradução é péssima e diferente do original a...\n",
       "4    Negativo  achei sem graça esse livro tópicos de livros a...\n",
       "..        ...                                                ...\n",
       "745  Negativo  conteúdo superficial onde se propõe nas dicas ...\n",
       "746  Negativo                                            péssimo\n",
       "747  Negativo  autor confunde tecnicas de coaching com religi...\n",
       "748  Negativo  livro superficial escrito para impressionar os...\n",
       "749  Negativo  é incrível como os sebos não tem noção vendem ...\n",
       "\n",
       "[750 rows x 2 columns]"
      ]
     },
     "execution_count": 29,
     "metadata": {},
     "output_type": "execute_result"
    }
   ],
   "source": [
    "df = pd.read_excel('dados/dados_treino.xlsx')\n",
    "\n",
    "coluna_especifica = df['Mensagem']\n",
    "\n",
    "\n",
    "\n",
    "def limpar_caracteres_especiais(string):\n",
    "\n",
    "    return re.sub(r'[^\\w\\s]', '', string)\n",
    "\n",
    "\n",
    "nova_coluna_especifica = [limpar_caracteres_especiais(string) for string in coluna_especifica]\n",
    "nova_coluna_especifica=[string.lower() for string in nova_coluna_especifica]\n",
    "train.Mensagem=nova_coluna_especifica\n",
    "train\n"
   ]
  },
  {
   "cell_type": "code",
   "execution_count": 30,
   "metadata": {},
   "outputs": [],
   "source": [
    "def separa_palavra(lista):\n",
    "    palavras=[]\n",
    "    for frase in lista:\n",
    "        palavra=frase.split()\n",
    "        for e in palavra:\n",
    "            palavras.append(e)\n",
    "    palavras_series=pd.Series(palavras)\n",
    "    tabela_palavras=palavras_series.value_counts()\n",
    "    return tabela_palavras\n"
   ]
  },
  {
   "cell_type": "code",
   "execution_count": 31,
   "metadata": {},
   "outputs": [],
   "source": [
    "def separa_palavra_relativa(lista):\n",
    "    palavras=[]\n",
    "    for frase in lista:\n",
    "        palavra=frase.split()\n",
    "        for e in palavra:\n",
    "            palavras.append(e)\n",
    "    palavras_series=pd.Series(palavras)\n",
    "    tabela_palavras=palavras_series.value_counts(True)\n",
    "    return tabela_palavras"
   ]
  },
  {
   "cell_type": "code",
   "execution_count": 32,
   "metadata": {},
   "outputs": [],
   "source": [
    "train.Target=train.Target.astype('category')\n",
    "test.Target=test.Target.astype('category')\n",
    "train_positivo = train.loc[train.Target=='Positivo' , :]\n",
    "train_negativo = train.loc[train.Target=='Negativo' , :]\n",
    "train_neutro = train.loc[train.Target=='Neutro' , :]\n",
    "tabela_palavras=separa_palavra(train.Mensagem)\n",
    "tabela_train_positivo=separa_palavra(train_positivo.Mensagem)\n",
    "tabela_train_negativo=separa_palavra(train_negativo.Mensagem)\n",
    "tabela_train_neutro=separa_palavra(train_neutro.Mensagem)"
   ]
  },
  {
   "cell_type": "code",
   "execution_count": 33,
   "metadata": {},
   "outputs": [],
   "source": [
    "tabela_palavras_relativa=separa_palavra_relativa(train.Mensagem)\n",
    "tabela_train_positivo_relativa=separa_palavra_relativa(train_positivo.Mensagem)\n",
    "tabela_train_negativo_relativa=separa_palavra_relativa(train_negativo.Mensagem)\n",
    "tabela_train_neutro_relativa=separa_palavra_relativa(train_neutro.Mensagem)"
   ]
  },
  {
   "cell_type": "code",
   "execution_count": 34,
   "metadata": {},
   "outputs": [
    {
     "name": "stdout",
     "output_type": "stream",
     "text": [
      "Neutro\n"
     ]
    }
   ],
   "source": [
    "def probabilidade_frase(frase):\n",
    "    \n",
    "    Positivo=1\n",
    "    Negativo=1\n",
    "    Neutro=1\n",
    "    frase_split=frase.split()\n",
    "    for i in frase_split:\n",
    "        if i not in tabela_train_positivo_relativa:\n",
    "            tabela_train_positivo_relativa[i]=1 \n",
    "\n",
    "        \n",
    "        if i not in tabela_train_negativo_relativa:\n",
    "            tabela_train_negativo_relativa[i]=1    \n",
    "        \n",
    "        \n",
    "        if i not in tabela_train_neutro_relativa:\n",
    "            tabela_train_neutro_relativa[i]=1 \n",
    "        \n",
    "        \n",
    "        chance_pos=tabela_train_positivo_relativa[i]\n",
    "        prob_pos=Positivo*chance_pos\n",
    "    \n",
    "        chance_neg=tabela_train_negativo_relativa[i]\n",
    "        prob_neg=Negativo*chance_neg\n",
    "\n",
    "        chance_neu=tabela_train_neutro_relativa[i]\n",
    "        prob_neu=Neutro*chance_neu\n",
    "    if prob_neg>prob_pos and prob_neg>prob_neu:\n",
    "        return ('Negativo')\n",
    "    elif prob_pos>prob_neg and prob_pos>prob_neu:\n",
    "        return ('Positivo')\n",
    "    else:\n",
    "        return('Neutro')\n",
    "\n",
    "print(probabilidade_frase('me mostrou a não confiar mais nos best sellers'))"
   ]
  }
 ],
 "metadata": {
  "kernelspec": {
   "display_name": "base",
   "language": "python",
   "name": "python3"
  },
  "language_info": {
   "codemirror_mode": {
    "name": "ipython",
    "version": 3
   },
   "file_extension": ".py",
   "mimetype": "text/x-python",
   "name": "python",
   "nbconvert_exporter": "python",
   "pygments_lexer": "ipython3",
   "version": "3.11.4"
  },
  "orig_nbformat": 4
 },
 "nbformat": 4,
 "nbformat_minor": 2
}
