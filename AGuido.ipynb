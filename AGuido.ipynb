{
 "cells": [
  {
   "cell_type": "code",
   "execution_count": 27,
   "metadata": {},
   "outputs": [
    {
     "name": "stdout",
     "output_type": "stream",
     "text": [
      "Olá mundo\n",
      "Este é um exemplo de string com caracteres especiais\n"
     ]
    }
   ],
   "source": [
    "import re\n",
    "lista_strings = [\"Olá, mundo!\", \"Este é um exemplo de string com @caracteres especiais#\"]\n",
    "\n",
    "\n",
    "def limpar_caracteres_especiais(string):\n",
    "\n",
    "    return re.sub(r'[^\\w\\s]', '', string)\n",
    "\n",
    "\n",
    "lista_limpa = [limpar_caracteres_especiais(string) for string in lista_strings]\n",
    "\n",
    "\n",
    "for string in lista_limpa:\n",
    "    print(string)"
   ]
  },
  {
   "cell_type": "code",
   "execution_count": 28,
   "metadata": {},
   "outputs": [],
   "source": [
    "%matplotlib inline\n",
    "import pandas as pd\n",
    "import matplotlib.pyplot as plt\n",
    "import numpy as np\n",
    "import os"
   ]
  },
  {
   "cell_type": "code",
   "execution_count": 29,
   "metadata": {},
   "outputs": [
    {
     "name": "stdout",
     "output_type": "stream",
     "text": [
      "Esperamos trabalhar no diretório\n",
      "c:\\Users\\guido\\OneDrive\\Documentos\\GitHub\\Cdados\n"
     ]
    }
   ],
   "source": [
    "print('Esperamos trabalhar no diretório')\n",
    "print(os.getcwd())"
   ]
  },
  {
   "cell_type": "code",
   "execution_count": 30,
   "metadata": {},
   "outputs": [
    {
     "data": {
      "text/html": [
       "<div>\n",
       "<style scoped>\n",
       "    .dataframe tbody tr th:only-of-type {\n",
       "        vertical-align: middle;\n",
       "    }\n",
       "\n",
       "    .dataframe tbody tr th {\n",
       "        vertical-align: top;\n",
       "    }\n",
       "\n",
       "    .dataframe thead th {\n",
       "        text-align: right;\n",
       "    }\n",
       "</style>\n",
       "<table border=\"1\" class=\"dataframe\">\n",
       "  <thead>\n",
       "    <tr style=\"text-align: right;\">\n",
       "      <th></th>\n",
       "      <th>Target</th>\n",
       "      <th>Mensagem</th>\n",
       "    </tr>\n",
       "  </thead>\n",
       "  <tbody>\n",
       "    <tr>\n",
       "      <th>0</th>\n",
       "      <td>Positivo</td>\n",
       "      <td>Leitura rápida, com algumas dicas para expandi...</td>\n",
       "    </tr>\n",
       "    <tr>\n",
       "      <th>1</th>\n",
       "      <td>Neutro</td>\n",
       "      <td>Coaching virou um grande modismo, assim como c...</td>\n",
       "    </tr>\n",
       "    <tr>\n",
       "      <th>2</th>\n",
       "      <td>Negativo</td>\n",
       "      <td>O fundo da história é pra se pensar. Mas é mui...</td>\n",
       "    </tr>\n",
       "    <tr>\n",
       "      <th>3</th>\n",
       "      <td>Neutro</td>\n",
       "      <td>A tradução é péssima e diferente do original. ...</td>\n",
       "    </tr>\n",
       "    <tr>\n",
       "      <th>4</th>\n",
       "      <td>Negativo</td>\n",
       "      <td>Achei sem graça esse livro. Tópicos de livros ...</td>\n",
       "    </tr>\n",
       "  </tbody>\n",
       "</table>\n",
       "</div>"
      ],
      "text/plain": [
       "     Target                                           Mensagem\n",
       "0  Positivo  Leitura rápida, com algumas dicas para expandi...\n",
       "1    Neutro  Coaching virou um grande modismo, assim como c...\n",
       "2  Negativo  O fundo da história é pra se pensar. Mas é mui...\n",
       "3    Neutro  A tradução é péssima e diferente do original. ...\n",
       "4  Negativo  Achei sem graça esse livro. Tópicos de livros ..."
      ]
     },
     "execution_count": 30,
     "metadata": {},
     "output_type": "execute_result"
    }
   ],
   "source": [
    "train = pd.read_excel('dados/dados_treino.xlsx')\n",
    "train.head(5)"
   ]
  },
  {
   "cell_type": "code",
   "execution_count": 31,
   "metadata": {},
   "outputs": [
    {
     "data": {
      "text/html": [
       "<div>\n",
       "<style scoped>\n",
       "    .dataframe tbody tr th:only-of-type {\n",
       "        vertical-align: middle;\n",
       "    }\n",
       "\n",
       "    .dataframe tbody tr th {\n",
       "        vertical-align: top;\n",
       "    }\n",
       "\n",
       "    .dataframe thead th {\n",
       "        text-align: right;\n",
       "    }\n",
       "</style>\n",
       "<table border=\"1\" class=\"dataframe\">\n",
       "  <thead>\n",
       "    <tr style=\"text-align: right;\">\n",
       "      <th></th>\n",
       "      <th>Target</th>\n",
       "      <th>Mensagem</th>\n",
       "    </tr>\n",
       "  </thead>\n",
       "  <tbody>\n",
       "    <tr>\n",
       "      <th>0</th>\n",
       "      <td>Neutro</td>\n",
       "      <td>É incrível como os sebos não tem noção, vendem...</td>\n",
       "    </tr>\n",
       "    <tr>\n",
       "      <th>1</th>\n",
       "      <td>Negativo</td>\n",
       "      <td>Livro sem nenhuma coisa de diferente. Autor ba...</td>\n",
       "    </tr>\n",
       "    <tr>\n",
       "      <th>2</th>\n",
       "      <td>Negativo</td>\n",
       "      <td>Bem fraco. Achei muito forçada a ligação com o...</td>\n",
       "    </tr>\n",
       "    <tr>\n",
       "      <th>3</th>\n",
       "      <td>Neutro</td>\n",
       "      <td>A caixa veio rasgada. como fazia mais de sete ...</td>\n",
       "    </tr>\n",
       "    <tr>\n",
       "      <th>4</th>\n",
       "      <td>Negativo</td>\n",
       "      <td>Que livro chato, gente quase não consegui term...</td>\n",
       "    </tr>\n",
       "  </tbody>\n",
       "</table>\n",
       "</div>"
      ],
      "text/plain": [
       "     Target                                           Mensagem\n",
       "0    Neutro  É incrível como os sebos não tem noção, vendem...\n",
       "1  Negativo  Livro sem nenhuma coisa de diferente. Autor ba...\n",
       "2  Negativo  Bem fraco. Achei muito forçada a ligação com o...\n",
       "3    Neutro  A caixa veio rasgada. como fazia mais de sete ...\n",
       "4  Negativo  Que livro chato, gente quase não consegui term..."
      ]
     },
     "execution_count": 31,
     "metadata": {},
     "output_type": "execute_result"
    }
   ],
   "source": [
    "test = pd.read_excel('dados/dados_teste.xlsx')\n",
    "test.head(5)"
   ]
  },
  {
   "cell_type": "code",
   "execution_count": 37,
   "metadata": {},
   "outputs": [
    {
     "data": {
      "text/html": [
       "<div>\n",
       "<style scoped>\n",
       "    .dataframe tbody tr th:only-of-type {\n",
       "        vertical-align: middle;\n",
       "    }\n",
       "\n",
       "    .dataframe tbody tr th {\n",
       "        vertical-align: top;\n",
       "    }\n",
       "\n",
       "    .dataframe thead th {\n",
       "        text-align: right;\n",
       "    }\n",
       "</style>\n",
       "<table border=\"1\" class=\"dataframe\">\n",
       "  <thead>\n",
       "    <tr style=\"text-align: right;\">\n",
       "      <th></th>\n",
       "      <th>Target</th>\n",
       "      <th>Mensagem</th>\n",
       "    </tr>\n",
       "  </thead>\n",
       "  <tbody>\n",
       "    <tr>\n",
       "      <th>0</th>\n",
       "      <td>Positivo</td>\n",
       "      <td>Leitura rápida com algumas dicas para expandir...</td>\n",
       "    </tr>\n",
       "    <tr>\n",
       "      <th>1</th>\n",
       "      <td>Neutro</td>\n",
       "      <td>Coaching virou um grande modismo assim como cr...</td>\n",
       "    </tr>\n",
       "    <tr>\n",
       "      <th>2</th>\n",
       "      <td>Negativo</td>\n",
       "      <td>O fundo da história é pra se pensar Mas é muit...</td>\n",
       "    </tr>\n",
       "    <tr>\n",
       "      <th>3</th>\n",
       "      <td>Neutro</td>\n",
       "      <td>A tradução é péssima e diferente do original A...</td>\n",
       "    </tr>\n",
       "    <tr>\n",
       "      <th>4</th>\n",
       "      <td>Negativo</td>\n",
       "      <td>Achei sem graça esse livro Tópicos de livros a...</td>\n",
       "    </tr>\n",
       "    <tr>\n",
       "      <th>...</th>\n",
       "      <td>...</td>\n",
       "      <td>...</td>\n",
       "    </tr>\n",
       "    <tr>\n",
       "      <th>745</th>\n",
       "      <td>Negativo</td>\n",
       "      <td>Conteúdo superficial onde se propõe nas dicas ...</td>\n",
       "    </tr>\n",
       "    <tr>\n",
       "      <th>746</th>\n",
       "      <td>Negativo</td>\n",
       "      <td>Péssimo</td>\n",
       "    </tr>\n",
       "    <tr>\n",
       "      <th>747</th>\n",
       "      <td>Negativo</td>\n",
       "      <td>autor confunde tecnicas de coaching com religi...</td>\n",
       "    </tr>\n",
       "    <tr>\n",
       "      <th>748</th>\n",
       "      <td>Negativo</td>\n",
       "      <td>Livro superficial escrito para impressionar os...</td>\n",
       "    </tr>\n",
       "    <tr>\n",
       "      <th>749</th>\n",
       "      <td>Negativo</td>\n",
       "      <td>É incrível como os sebos não tem noção vendem ...</td>\n",
       "    </tr>\n",
       "  </tbody>\n",
       "</table>\n",
       "<p>750 rows × 2 columns</p>\n",
       "</div>"
      ],
      "text/plain": [
       "       Target                                           Mensagem\n",
       "0    Positivo  Leitura rápida com algumas dicas para expandir...\n",
       "1      Neutro  Coaching virou um grande modismo assim como cr...\n",
       "2    Negativo  O fundo da história é pra se pensar Mas é muit...\n",
       "3      Neutro  A tradução é péssima e diferente do original A...\n",
       "4    Negativo  Achei sem graça esse livro Tópicos de livros a...\n",
       "..        ...                                                ...\n",
       "745  Negativo  Conteúdo superficial onde se propõe nas dicas ...\n",
       "746  Negativo                                            Péssimo\n",
       "747  Negativo  autor confunde tecnicas de coaching com religi...\n",
       "748  Negativo  Livro superficial escrito para impressionar os...\n",
       "749  Negativo  É incrível como os sebos não tem noção vendem ...\n",
       "\n",
       "[750 rows x 2 columns]"
      ]
     },
     "execution_count": 37,
     "metadata": {},
     "output_type": "execute_result"
    }
   ],
   "source": [
    "df = pd.read_excel('dados/dados_treino.xlsx')\n",
    "\n",
    "coluna_especifica = df['Mensagem']\n",
    "\n",
    "\n",
    "\n",
    "def limpar_caracteres_especiais(string):\n",
    "\n",
    "    return re.sub(r'[^\\w\\s]', '', string)\n",
    "\n",
    "\n",
    "nova_coluna_especifica = [limpar_caracteres_especiais(string) for string in coluna_especifica]\n",
    "train.Mensagem=nova_coluna_especifica\n",
    "train\n"
   ]
  },
  {
   "cell_type": "code",
   "execution_count": null,
   "metadata": {},
   "outputs": [],
   "source": []
  }
 ],
 "metadata": {
  "kernelspec": {
   "display_name": "base",
   "language": "python",
   "name": "python3"
  },
  "language_info": {
   "codemirror_mode": {
    "name": "ipython",
    "version": 3
   },
   "file_extension": ".py",
   "mimetype": "text/x-python",
   "name": "python",
   "nbconvert_exporter": "python",
   "pygments_lexer": "ipython3",
   "version": "3.11.4"
  },
  "orig_nbformat": 4
 },
 "nbformat": 4,
 "nbformat_minor": 2
}
