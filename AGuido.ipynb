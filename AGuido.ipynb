{
 "cells": [
  {
   "cell_type": "code",
   "execution_count": 13,
   "metadata": {},
   "outputs": [
    {
     "name": "stdout",
     "output_type": "stream",
     "text": [
      "Olá mundo\n",
      "Este é um exemplo de string com caracteres especiais\n"
     ]
    }
   ],
   "source": [
    "import re\n",
    "lista_strings = [\"Olá, mundo!\", \"Este é um exemplo de string com @caracteres especiais#\"]\n",
    "\n",
    "\n",
    "def limpar_caracteres_especiais(string):\n",
    "\n",
    "    return re.sub(r'[^\\w\\s]', '', string)\n",
    "\n",
    "\n",
    "lista_limpa = [limpar_caracteres_especiais(string) for string in lista_strings]\n",
    "\n",
    "\n",
    "for string in lista_limpa:\n",
    "    print(string)"
   ]
  },
  {
   "cell_type": "code",
   "execution_count": 14,
   "metadata": {},
   "outputs": [],
   "source": [
    "%matplotlib inline\n",
    "import pandas as pd\n",
    "import matplotlib.pyplot as plt\n",
    "import numpy as np\n",
    "import os"
   ]
  },
  {
   "cell_type": "code",
   "execution_count": 15,
   "metadata": {},
   "outputs": [
    {
     "name": "stdout",
     "output_type": "stream",
     "text": [
      "Esperamos trabalhar no diretório\n",
      "c:\\Users\\guido\\OneDrive\\Documentos\\GitHub\\Cdados\n"
     ]
    }
   ],
   "source": [
    "print('Esperamos trabalhar no diretório')\n",
    "print(os.getcwd())"
   ]
  },
  {
   "cell_type": "code",
   "execution_count": 16,
   "metadata": {},
   "outputs": [
    {
     "data": {
      "text/html": [
       "<div>\n",
       "<style scoped>\n",
       "    .dataframe tbody tr th:only-of-type {\n",
       "        vertical-align: middle;\n",
       "    }\n",
       "\n",
       "    .dataframe tbody tr th {\n",
       "        vertical-align: top;\n",
       "    }\n",
       "\n",
       "    .dataframe thead th {\n",
       "        text-align: right;\n",
       "    }\n",
       "</style>\n",
       "<table border=\"1\" class=\"dataframe\">\n",
       "  <thead>\n",
       "    <tr style=\"text-align: right;\">\n",
       "      <th></th>\n",
       "      <th>Target</th>\n",
       "      <th>Mensagem</th>\n",
       "    </tr>\n",
       "  </thead>\n",
       "  <tbody>\n",
       "    <tr>\n",
       "      <th>0</th>\n",
       "      <td>Positivo</td>\n",
       "      <td>Leitura rápida, com algumas dicas para expandi...</td>\n",
       "    </tr>\n",
       "    <tr>\n",
       "      <th>1</th>\n",
       "      <td>Neutro</td>\n",
       "      <td>Coaching virou um grande modismo, assim como c...</td>\n",
       "    </tr>\n",
       "    <tr>\n",
       "      <th>2</th>\n",
       "      <td>Negativo</td>\n",
       "      <td>O fundo da história é pra se pensar. Mas é mui...</td>\n",
       "    </tr>\n",
       "    <tr>\n",
       "      <th>3</th>\n",
       "      <td>Neutro</td>\n",
       "      <td>A tradução é péssima e diferente do original. ...</td>\n",
       "    </tr>\n",
       "    <tr>\n",
       "      <th>4</th>\n",
       "      <td>Negativo</td>\n",
       "      <td>Achei sem graça esse livro. Tópicos de livros ...</td>\n",
       "    </tr>\n",
       "  </tbody>\n",
       "</table>\n",
       "</div>"
      ],
      "text/plain": [
       "     Target                                           Mensagem\n",
       "0  Positivo  Leitura rápida, com algumas dicas para expandi...\n",
       "1    Neutro  Coaching virou um grande modismo, assim como c...\n",
       "2  Negativo  O fundo da história é pra se pensar. Mas é mui...\n",
       "3    Neutro  A tradução é péssima e diferente do original. ...\n",
       "4  Negativo  Achei sem graça esse livro. Tópicos de livros ..."
      ]
     },
     "execution_count": 16,
     "metadata": {},
     "output_type": "execute_result"
    }
   ],
   "source": [
    "train = pd.read_excel('dados/dados_treino.xlsx')\n",
    "train.head(5)"
   ]
  },
  {
   "cell_type": "code",
   "execution_count": 17,
   "metadata": {},
   "outputs": [
    {
     "data": {
      "text/html": [
       "<div>\n",
       "<style scoped>\n",
       "    .dataframe tbody tr th:only-of-type {\n",
       "        vertical-align: middle;\n",
       "    }\n",
       "\n",
       "    .dataframe tbody tr th {\n",
       "        vertical-align: top;\n",
       "    }\n",
       "\n",
       "    .dataframe thead th {\n",
       "        text-align: right;\n",
       "    }\n",
       "</style>\n",
       "<table border=\"1\" class=\"dataframe\">\n",
       "  <thead>\n",
       "    <tr style=\"text-align: right;\">\n",
       "      <th></th>\n",
       "      <th>Target</th>\n",
       "      <th>Mensagem</th>\n",
       "    </tr>\n",
       "  </thead>\n",
       "  <tbody>\n",
       "    <tr>\n",
       "      <th>0</th>\n",
       "      <td>Neutro</td>\n",
       "      <td>É incrível como os sebos não tem noção, vendem...</td>\n",
       "    </tr>\n",
       "    <tr>\n",
       "      <th>1</th>\n",
       "      <td>Negativo</td>\n",
       "      <td>Livro sem nenhuma coisa de diferente. Autor ba...</td>\n",
       "    </tr>\n",
       "    <tr>\n",
       "      <th>2</th>\n",
       "      <td>Negativo</td>\n",
       "      <td>Bem fraco. Achei muito forçada a ligação com o...</td>\n",
       "    </tr>\n",
       "    <tr>\n",
       "      <th>3</th>\n",
       "      <td>Neutro</td>\n",
       "      <td>A caixa veio rasgada. como fazia mais de sete ...</td>\n",
       "    </tr>\n",
       "    <tr>\n",
       "      <th>4</th>\n",
       "      <td>Negativo</td>\n",
       "      <td>Que livro chato, gente quase não consegui term...</td>\n",
       "    </tr>\n",
       "  </tbody>\n",
       "</table>\n",
       "</div>"
      ],
      "text/plain": [
       "     Target                                           Mensagem\n",
       "0    Neutro  É incrível como os sebos não tem noção, vendem...\n",
       "1  Negativo  Livro sem nenhuma coisa de diferente. Autor ba...\n",
       "2  Negativo  Bem fraco. Achei muito forçada a ligação com o...\n",
       "3    Neutro  A caixa veio rasgada. como fazia mais de sete ...\n",
       "4  Negativo  Que livro chato, gente quase não consegui term..."
      ]
     },
     "execution_count": 17,
     "metadata": {},
     "output_type": "execute_result"
    }
   ],
   "source": [
    "test = pd.read_excel('dados/dados_teste.xlsx')\n",
    "test.head(5)"
   ]
  },
  {
   "cell_type": "code",
   "execution_count": 18,
   "metadata": {},
   "outputs": [
    {
     "name": "stdout",
     "output_type": "stream",
     "text": [
      "Olá mundo\n",
      "Este é um exemplo de string com caracteres especiais\n"
     ]
    }
   ],
   "source": [
    "def limpar_caracteres_especiais(string):\n",
    "\n",
    "    return re.sub(r'[^\\w\\s]', '', string)\n",
    "\n",
    "\n",
    "lista_limpa = [limpar_caracteres_especiais(string) for string in lista_strings]\n",
    "\n",
    "\n",
    "for string in lista_limpa:\n",
    "    print(string)"
   ]
  }
 ],
 "metadata": {
  "kernelspec": {
   "display_name": "base",
   "language": "python",
   "name": "python3"
  },
  "language_info": {
   "codemirror_mode": {
    "name": "ipython",
    "version": 3
   },
   "file_extension": ".py",
   "mimetype": "text/x-python",
   "name": "python",
   "nbconvert_exporter": "python",
   "pygments_lexer": "ipython3",
   "version": "3.11.4"
  },
  "orig_nbformat": 4
 },
 "nbformat": 4,
 "nbformat_minor": 2
}
